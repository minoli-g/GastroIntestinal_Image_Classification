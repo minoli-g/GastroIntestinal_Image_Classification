{
  "nbformat": 4,
  "nbformat_minor": 0,
  "metadata": {
    "kernelspec": {
      "name": "python3",
      "display_name": "Python 3",
      "language": "python"
    },
    "language_info": {
      "name": "python",
      "version": "3.7.9",
      "mimetype": "text/x-python",
      "codemirror_mode": {
        "name": "ipython",
        "version": 3
      },
      "pygments_lexer": "ipython3",
      "nbconvert_exporter": "python",
      "file_extension": ".py"
    },
    "colab": {
      "name": "GastroIntestinal_Image_Classification_Final.ipynb",
      "provenance": [],
      "collapsed_sections": [],
      "toc_visible": true
    },
    "accelerator": "GPU"
  },
  "cells": [
    {
      "cell_type": "markdown",
      "metadata": {
        "id": "Uly7pVy8o75P"
      },
      "source": [
        "# Importing the necessary modules"
      ]
    },
    {
      "cell_type": "code",
      "metadata": {
        "id": "8U-OnWvyhAon",
        "trusted": true
      },
      "source": [
        "import os\n",
        "from pathlib import Path\n",
        "\n",
        "import tensorflow as tf\n",
        "import numpy as np\n",
        "\n",
        "import matplotlib.image  as mpimg\n",
        "import matplotlib.pyplot as plt\n",
        "\n",
        "import shutil\n",
        "import random\n",
        "import zipfile\n",
        "\n",
        "from tensorflow.keras import layers\n",
        "from tensorflow.keras import Model\n",
        "from tensorflow.keras.optimizers import RMSprop\n",
        "from keras.preprocessing import image\n",
        "\n",
        "from sklearn.metrics import classification_report, confusion_matrix\n",
        "\n"
      ],
      "execution_count": null,
      "outputs": []
    },
    {
      "cell_type": "markdown",
      "metadata": {
        "id": "RfDHjM1xpWEF"
      },
      "source": [
        "# Downloading and Organizing the Data"
      ]
    },
    {
      "cell_type": "code",
      "metadata": {
        "trusted": true,
        "colab": {
          "base_uri": "https://localhost:8080/"
        },
        "id": "G4IIjCFTdhnB",
        "outputId": "89018666-a836-442c-b80b-e822de15aa4f"
      },
      "source": [
        "dataset_url = \"https://datasets.simula.no/kvasir/data/kvasir-dataset-v2.zip\"\n",
        "\n",
        "data_zipfile = tf.keras.utils.get_file(origin = dataset_url, fname = '/tmp/kvasir.zip', extract = False)"
      ],
      "execution_count": null,
      "outputs": [
        {
          "output_type": "stream",
          "text": [
            "Downloading data from https://datasets.simula.no/kvasir/data/kvasir-dataset-v2.zip\n",
            "2489319424/2489312085 [==============================] - 658s 0us/step\n"
          ],
          "name": "stdout"
        }
      ]
    },
    {
      "cell_type": "code",
      "metadata": {
        "id": "PCn27t90l03Y",
        "trusted": true,
        "colab": {
          "base_uri": "https://localhost:8080/"
        },
        "outputId": "ef05c744-e7b9-4671-ff69-eb6807a71c03"
      },
      "source": [
        "zip_ref = zipfile.ZipFile('/tmp/kvasir.zip','r')\n",
        "zip_ref.extractall('/tmp')\n",
        "zip_ref.close()\n",
        "\n",
        "#split the extracted stuff into training and validation directories.\n",
        "\n",
        "#make the directories\n",
        "os.mkdir('/tmp/kvasir')\n",
        "os.mkdir('/tmp/kvasir/train')\n",
        "os.mkdir('/tmp/kvasir/test')\n",
        "\n",
        "#find label names\n",
        "labels = os.listdir('/tmp/kvasir-dataset-v2')\n",
        "print(labels)\n",
        "\n",
        "train_dir = '/tmp/kvasir/train'\n",
        "test_dir = '/tmp/kvasir/test'\n",
        "\n",
        "for i in labels:\n",
        "  os.mkdir(train_dir+\"/\"+i)\n",
        "  os.mkdir(test_dir+\"/\"+i)"
      ],
      "execution_count": null,
      "outputs": [
        {
          "output_type": "stream",
          "text": [
            "['normal-cecum', 'normal-z-line', 'esophagitis', 'polyps', 'ulcerative-colitis', 'dyed-lifted-polyps', 'dyed-resection-margins', 'normal-pylorus']\n"
          ],
          "name": "stdout"
        }
      ]
    },
    {
      "cell_type": "code",
      "metadata": {
        "id": "jTnq0_MtoiHs",
        "trusted": true
      },
      "source": [
        "def split_data(source,train,test,split):\n",
        "\n",
        "  data = os.listdir(source)\n",
        "  len_data = len(data)\n",
        "  data = random.sample(data,len_data)\n",
        "\n",
        "  for i in range(len_data):\n",
        "\n",
        "    file = source + \"/\" + data[i]   #filename and path\n",
        "\n",
        "    if not os.path.getsize(file)>0:\n",
        "      print(data[i] + \" is zero length, ignoring it.\")\n",
        "\n",
        "    elif (i<split*len_data):\n",
        "      shutil.copyfile(file,train+\"/\"+data[i])\n",
        "\n",
        "    else:\n",
        "      shutil.copyfile(file,test+\"/\"+data[i])\n",
        "\n",
        "\n",
        "split_size = 0.8\n",
        "\n",
        "for i in labels:\n",
        "  split_data(\"/tmp/kvasir-dataset-v2/\"+i, train_dir+\"/\"+i, test_dir+\"/\"+i,split_size)\n"
      ],
      "execution_count": null,
      "outputs": []
    },
    {
      "cell_type": "code",
      "metadata": {
        "id": "9BycGEQ2wpYO",
        "trusted": true,
        "colab": {
          "base_uri": "https://localhost:8080/"
        },
        "outputId": "4fa8a234-0f6e-4ff7-e609-28da3f8841a4"
      },
      "source": [
        "#finally everything is split nicely, now we can point image data generator at this directory structure\n",
        "\n",
        "print(len(os.listdir('/tmp/kvasir/test/ulcerative-colitis'))) #just a test\n",
        "\n",
        "from tensorflow.keras.preprocessing.image import ImageDataGenerator\n",
        "\n",
        "train_generator = ImageDataGenerator(\n",
        "    rescale=1./255,\n",
        "    rotation_range=90,\n",
        "    width_shift_range=0.2,\n",
        "    height_shift_range=0.2,\n",
        "    zoom_range=0.2,\n",
        "    horizontal_flip=True,\n",
        "    fill_mode='nearest'\n",
        ")\n",
        "\n",
        "test_generator = ImageDataGenerator(rescale=1./255)\n",
        "\n",
        "train_ds = train_generator.flow_from_directory(\n",
        "    train_dir,\n",
        "    batch_size=80,\n",
        "    class_mode='sparse',\n",
        "    target_size=(288,360)\n",
        ")\n",
        "\n",
        "test_ds = test_generator.flow_from_directory(\n",
        "    test_dir,\n",
        "    batch_size=80,\n",
        "    shuffle=False,\n",
        "    class_mode='sparse',\n",
        "    target_size=(288,360)\n",
        ")\n",
        "\n"
      ],
      "execution_count": null,
      "outputs": [
        {
          "output_type": "stream",
          "text": [
            "200\n",
            "Found 6400 images belonging to 8 classes.\n",
            "Found 1600 images belonging to 8 classes.\n"
          ],
          "name": "stdout"
        }
      ]
    },
    {
      "cell_type": "markdown",
      "metadata": {
        "id": "zeJdrR3snh5Y"
      },
      "source": [
        "#Testing VGG-16"
      ]
    },
    {
      "cell_type": "code",
      "metadata": {
        "colab": {
          "base_uri": "https://localhost:8080/"
        },
        "id": "DV8hX2_rntNX",
        "outputId": "bd9c98d9-52af-478d-fe9b-448145a1e858"
      },
      "source": [
        "train_ds_new = train_generator.flow_from_directory(\r\n",
        "    train_dir,\r\n",
        "    batch_size=80,\r\n",
        "    class_mode='sparse',\r\n",
        "    target_size=(224,224)\r\n",
        ")\r\n",
        "\r\n",
        "test_ds_new = test_generator.flow_from_directory(\r\n",
        "    test_dir,\r\n",
        "    batch_size=80,\r\n",
        "    shuffle=False,\r\n",
        "    class_mode='sparse',\r\n",
        "    target_size=(224,224)\r\n",
        ")\r\n"
      ],
      "execution_count": null,
      "outputs": [
        {
          "output_type": "stream",
          "text": [
            "Found 6400 images belonging to 8 classes.\n",
            "Found 1600 images belonging to 8 classes.\n"
          ],
          "name": "stdout"
        }
      ]
    },
    {
      "cell_type": "code",
      "metadata": {
        "colab": {
          "base_uri": "https://localhost:8080/"
        },
        "id": "FPNJlATWoDHU",
        "outputId": "577268ef-7602-456e-a030-14f39c531ac5"
      },
      "source": [
        "from tensorflow.keras.applications.vgg16 import VGG16\r\n",
        "\r\n",
        "base_model = VGG16(input_shape = (224, 224, 3), # Shape of our images\r\n",
        "include_top = False, # Leave out the last fully connected layer\r\n",
        "weights = 'imagenet')\r\n",
        "\r\n",
        "#Since we don’t have to train all the layers, we make them non_trainable:\r\n",
        "for layer in base_model.layers:\r\n",
        "    layer.trainable = False"
      ],
      "execution_count": null,
      "outputs": [
        {
          "output_type": "stream",
          "text": [
            "Downloading data from https://storage.googleapis.com/tensorflow/keras-applications/vgg16/vgg16_weights_tf_dim_ordering_tf_kernels_notop.h5\n",
            "58892288/58889256 [==============================] - 2s 0us/step\n"
          ],
          "name": "stdout"
        }
      ]
    },
    {
      "cell_type": "code",
      "metadata": {
        "colab": {
          "base_uri": "https://localhost:8080/"
        },
        "id": "Mcw-pbF_oQFK",
        "outputId": "0a3311d8-98e8-49e3-82c6-968f544799c4"
      },
      "source": [
        "# Flatten the output layer to 1 dimension\r\n",
        "x = layers.Flatten()(base_model.output)\r\n",
        "\r\n",
        "# Add a fully connected layer with 512 hidden units and ReLU activation\r\n",
        "x = layers.Dense(512, activation='relu')(x)\r\n",
        "\r\n",
        "# Add a dropout rate of 0.5\r\n",
        "x = layers.Dropout(0.5)(x)\r\n",
        "\r\n",
        "# Add a final sigmoid layer for classification\r\n",
        "x = layers.Dense  (8,activation='softmax')(x)           \r\n",
        "\r\n",
        "\r\n",
        "new_vgg_model = tf.keras.models.Model(base_model.input, x)\r\n",
        "\r\n",
        "new_vgg_model.compile(optimizer='adam',\r\n",
        "              loss='sparse_categorical_crossentropy', \r\n",
        "              metrics='accuracy')\r\n",
        "\r\n",
        "history = new_vgg_model.fit(\r\n",
        "    train_ds_new,\r\n",
        "    epochs=10,\r\n",
        "    #batch_size=20,\r\n",
        "    #verbose=1,\r\n",
        "    validation_data=test_ds_new\r\n",
        ")\r\n"
      ],
      "execution_count": null,
      "outputs": [
        {
          "output_type": "stream",
          "text": [
            "Epoch 1/10\n",
            "80/80 [==============================] - 183s 2s/step - loss: 3.8851 - accuracy: 0.2707 - val_loss: 1.0205 - val_accuracy: 0.6256\n",
            "Epoch 2/10\n",
            "80/80 [==============================] - 178s 2s/step - loss: 1.2219 - accuracy: 0.4989 - val_loss: 0.8642 - val_accuracy: 0.6712\n",
            "Epoch 3/10\n",
            "80/80 [==============================] - 179s 2s/step - loss: 1.0755 - accuracy: 0.5442 - val_loss: 0.7527 - val_accuracy: 0.7050\n",
            "Epoch 4/10\n",
            "80/80 [==============================] - 174s 2s/step - loss: 0.9623 - accuracy: 0.5889 - val_loss: 0.6956 - val_accuracy: 0.7194\n",
            "Epoch 5/10\n",
            "80/80 [==============================] - 175s 2s/step - loss: 0.9417 - accuracy: 0.6046 - val_loss: 0.6749 - val_accuracy: 0.7219\n",
            "Epoch 6/10\n",
            "80/80 [==============================] - 174s 2s/step - loss: 0.9294 - accuracy: 0.6060 - val_loss: 0.6388 - val_accuracy: 0.7325\n",
            "Epoch 7/10\n",
            "80/80 [==============================] - 174s 2s/step - loss: 0.9040 - accuracy: 0.6190 - val_loss: 0.6459 - val_accuracy: 0.7469\n",
            "Epoch 8/10\n",
            "80/80 [==============================] - 174s 2s/step - loss: 0.8707 - accuracy: 0.6264 - val_loss: 0.6288 - val_accuracy: 0.7425\n",
            "Epoch 9/10\n",
            "80/80 [==============================] - 174s 2s/step - loss: 0.8391 - accuracy: 0.6451 - val_loss: 0.5843 - val_accuracy: 0.7588\n",
            "Epoch 10/10\n",
            "80/80 [==============================] - 174s 2s/step - loss: 0.8151 - accuracy: 0.6631 - val_loss: 0.5794 - val_accuracy: 0.7650\n"
          ],
          "name": "stdout"
        }
      ]
    },
    {
      "cell_type": "code",
      "metadata": {
        "colab": {
          "base_uri": "https://localhost:8080/"
        },
        "id": "J6Ko-jm1yFH0",
        "outputId": "021cf03d-481f-427a-93c4-32e67a714659"
      },
      "source": [
        "new_vgg_model.compile(optimizer = tf.keras.optimizers.RMSprop(lr=0.0001),\r\n",
        "              loss='sparse_categorical_crossentropy', \r\n",
        "              metrics='accuracy')\r\n",
        "\r\n",
        "history2 = new_vgg_model.fit(\r\n",
        "    train_ds_new,\r\n",
        "    epochs=10,\r\n",
        "    #batch_size=20,\r\n",
        "    #verbose=1,\r\n",
        "    validation_data=test_ds_new\r\n",
        ")"
      ],
      "execution_count": null,
      "outputs": [
        {
          "output_type": "stream",
          "text": [
            "Epoch 1/10\n",
            "80/80 [==============================] - 176s 2s/step - loss: 0.7517 - accuracy: 0.6861 - val_loss: 0.5318 - val_accuracy: 0.7837\n",
            "Epoch 2/10\n",
            "80/80 [==============================] - 173s 2s/step - loss: 0.7316 - accuracy: 0.6907 - val_loss: 0.5436 - val_accuracy: 0.7706\n",
            "Epoch 3/10\n",
            "80/80 [==============================] - 172s 2s/step - loss: 0.7243 - accuracy: 0.7019 - val_loss: 0.5326 - val_accuracy: 0.7750\n",
            "Epoch 4/10\n",
            "80/80 [==============================] - 172s 2s/step - loss: 0.7481 - accuracy: 0.6910 - val_loss: 0.5274 - val_accuracy: 0.7800\n",
            "Epoch 5/10\n",
            "80/80 [==============================] - 173s 2s/step - loss: 0.7321 - accuracy: 0.6980 - val_loss: 0.5250 - val_accuracy: 0.7825\n",
            "Epoch 6/10\n",
            "80/80 [==============================] - 174s 2s/step - loss: 0.7108 - accuracy: 0.7099 - val_loss: 0.5219 - val_accuracy: 0.7862\n",
            "Epoch 7/10\n",
            "80/80 [==============================] - 175s 2s/step - loss: 0.7154 - accuracy: 0.7094 - val_loss: 0.5176 - val_accuracy: 0.7806\n",
            "Epoch 8/10\n",
            "80/80 [==============================] - 177s 2s/step - loss: 0.7184 - accuracy: 0.7066 - val_loss: 0.5142 - val_accuracy: 0.7875\n",
            "Epoch 9/10\n",
            "80/80 [==============================] - 174s 2s/step - loss: 0.7177 - accuracy: 0.6973 - val_loss: 0.5257 - val_accuracy: 0.7856\n",
            "Epoch 10/10\n",
            "80/80 [==============================] - 173s 2s/step - loss: 0.7192 - accuracy: 0.6949 - val_loss: 0.5103 - val_accuracy: 0.7850\n"
          ],
          "name": "stdout"
        }
      ]
    },
    {
      "cell_type": "code",
      "metadata": {
        "colab": {
          "base_uri": "https://localhost:8080/",
          "height": 167
        },
        "id": "rv_uQuu72C6Z",
        "outputId": "26014cc7-d7db-4ec5-ec9c-3c911db90da9"
      },
      "source": [
        "print(new_vgg_model.evaluate(test_ds))"
      ],
      "execution_count": null,
      "outputs": [
        {
          "output_type": "error",
          "ename": "NameError",
          "evalue": "ignored",
          "traceback": [
            "\u001b[0;31m---------------------------------------------------------------------------\u001b[0m",
            "\u001b[0;31mNameError\u001b[0m                                 Traceback (most recent call last)",
            "\u001b[0;32m<ipython-input-2-86d09a19437b>\u001b[0m in \u001b[0;36m<module>\u001b[0;34m()\u001b[0m\n\u001b[0;32m----> 1\u001b[0;31m \u001b[0mprint\u001b[0m\u001b[0;34m(\u001b[0m\u001b[0mnew_vgg_model\u001b[0m\u001b[0;34m.\u001b[0m\u001b[0mevaluate\u001b[0m\u001b[0;34m(\u001b[0m\u001b[0mtest_ds\u001b[0m\u001b[0;34m)\u001b[0m\u001b[0;34m)\u001b[0m\u001b[0;34m\u001b[0m\u001b[0;34m\u001b[0m\u001b[0m\n\u001b[0m",
            "\u001b[0;31mNameError\u001b[0m: name 'new_vgg_model' is not defined"
          ]
        }
      ]
    },
    {
      "cell_type": "markdown",
      "metadata": {
        "id": "wAi_ah8-npGz"
      },
      "source": [
        "#Testing Inception v3"
      ]
    },
    {
      "cell_type": "code",
      "metadata": {
        "id": "v2Y0SMW4z9_k",
        "trusted": true,
        "colab": {
          "base_uri": "https://localhost:8080/"
        },
        "outputId": "55d75479-0b31-4c41-c9e9-f5cd8271cb62"
      },
      "source": [
        "# Download the inception v3 weights\n",
        "!wget --no-check-certificate \\\n",
        "    https://storage.googleapis.com/mledu-datasets/inception_v3_weights_tf_dim_ordering_tf_kernels_notop.h5 \\\n",
        "    -O /tmp/inception_v3_weights_tf_dim_ordering_tf_kernels_notop.h5\n",
        "\n",
        "# Import the inception model  \n",
        "from tensorflow.keras.applications.inception_v3 import InceptionV3\n",
        "\n",
        "# Create an instance of the inception model from the local pre-trained weights\n",
        "local_weights_file = '/tmp/inception_v3_weights_tf_dim_ordering_tf_kernels_notop.h5'\n",
        "\n",
        "pre_trained_model = InceptionV3(input_shape = (288, 360, 3), \n",
        "                                include_top = False, \n",
        "                                weights = None)\n",
        "\n",
        "pre_trained_model.load_weights(local_weights_file)\n",
        "\n",
        "# Make all the layers in the pre-trained model non-trainable\n",
        "for layer in pre_trained_model.layers:\n",
        "  layer.trainable = False\n",
        "  \n",
        "# Print the model summary\n",
        "#pre_trained_model.summary()"
      ],
      "execution_count": null,
      "outputs": [
        {
          "output_type": "stream",
          "text": [
            "--2021-03-09 04:58:57--  https://storage.googleapis.com/mledu-datasets/inception_v3_weights_tf_dim_ordering_tf_kernels_notop.h5\n",
            "Resolving storage.googleapis.com (storage.googleapis.com)... 173.194.79.128, 108.177.119.128, 108.177.126.128, ...\n",
            "Connecting to storage.googleapis.com (storage.googleapis.com)|173.194.79.128|:443... connected.\n",
            "HTTP request sent, awaiting response... 200 OK\n",
            "Length: 87910968 (84M) [application/x-hdf]\n",
            "Saving to: ‘/tmp/inception_v3_weights_tf_dim_ordering_tf_kernels_notop.h5’\n",
            "\n",
            "/tmp/inception_v3_w 100%[===================>]  83.84M  39.7MB/s    in 2.1s    \n",
            "\n",
            "2021-03-09 04:59:00 (39.7 MB/s) - ‘/tmp/inception_v3_weights_tf_dim_ordering_tf_kernels_notop.h5’ saved [87910968/87910968]\n",
            "\n"
          ],
          "name": "stdout"
        }
      ]
    },
    {
      "cell_type": "code",
      "metadata": {
        "id": "oqtw2GVy0JZA",
        "trusted": true,
        "colab": {
          "base_uri": "https://localhost:8080/"
        },
        "outputId": "5a167555-c24e-4526-8870-011c7ce53209"
      },
      "source": [
        "last_layer = pre_trained_model.get_layer('mixed7')\n",
        "print('last layer output shape: ', last_layer.output_shape)\n",
        "last_output = last_layer.output\n",
        "\n",
        "\n",
        "# Flatten the output layer to 1 dimension\n",
        "x = layers.Flatten()(last_output)\n",
        "# Add a fully connected layer with 1,024 hidden units and ReLU activation\n",
        "x = layers.Dense(128,activation='relu')(x)\n",
        "# Add a dropout rate of 0.2\n",
        "x = layers.Dropout(0.2)(x)                  \n",
        "# Add a final sigmoid layer for classification\n",
        "x = layers.Dense  (8,activation='softmax')(x)           \n",
        "\n",
        "transfer_model = Model(pre_trained_model.input, x) \n",
        "#transfer_model.summary()"
      ],
      "execution_count": null,
      "outputs": [
        {
          "output_type": "stream",
          "text": [
            "last layer output shape:  (None, 16, 20, 768)\n"
          ],
          "name": "stdout"
        }
      ]
    },
    {
      "cell_type": "code",
      "metadata": {
        "id": "1EKzKUodzh2z",
        "trusted": true,
        "colab": {
          "base_uri": "https://localhost:8080/"
        },
        "outputId": "9fc1f073-54ab-4733-9495-bd8873fdeb9b"
      },
      "source": [
        "\n",
        "transfer_model.compile(optimizer='adam',\n",
        "              loss='sparse_categorical_crossentropy', \n",
        "              metrics='accuracy')\n",
        "\n",
        "history = transfer_model.fit(\n",
        "    train_ds,\n",
        "    epochs=10,\n",
        "    #batch_size=20,\n",
        "    #verbose=1,\n",
        "    validation_data=test_ds\n",
        ")"
      ],
      "execution_count": null,
      "outputs": [
        {
          "output_type": "stream",
          "text": [
            "Epoch 1/10\n",
            "80/80 [==============================] - 269s 3s/step - loss: 2.9744 - accuracy: 0.3649 - val_loss: 0.6009 - val_accuracy: 0.7919\n",
            "Epoch 2/10\n",
            "80/80 [==============================] - 241s 3s/step - loss: 0.7935 - accuracy: 0.6650 - val_loss: 0.4425 - val_accuracy: 0.8344\n",
            "Epoch 3/10\n",
            "80/80 [==============================] - 242s 3s/step - loss: 0.7287 - accuracy: 0.6972 - val_loss: 0.4151 - val_accuracy: 0.8456\n",
            "Epoch 4/10\n",
            "80/80 [==============================] - 241s 3s/step - loss: 0.6509 - accuracy: 0.7262 - val_loss: 0.3796 - val_accuracy: 0.8594\n",
            "Epoch 5/10\n",
            "80/80 [==============================] - 241s 3s/step - loss: 0.6384 - accuracy: 0.7198 - val_loss: 0.3535 - val_accuracy: 0.8712\n",
            "Epoch 6/10\n",
            "80/80 [==============================] - 241s 3s/step - loss: 0.6282 - accuracy: 0.7381 - val_loss: 0.3459 - val_accuracy: 0.8606\n",
            "Epoch 7/10\n",
            "80/80 [==============================] - 241s 3s/step - loss: 0.6200 - accuracy: 0.7398 - val_loss: 0.3491 - val_accuracy: 0.8706\n",
            "Epoch 8/10\n",
            "80/80 [==============================] - 244s 3s/step - loss: 0.5681 - accuracy: 0.7688 - val_loss: 0.3280 - val_accuracy: 0.8731\n",
            "Epoch 9/10\n",
            "80/80 [==============================] - 243s 3s/step - loss: 0.5799 - accuracy: 0.7544 - val_loss: 0.3301 - val_accuracy: 0.8725\n",
            "Epoch 10/10\n",
            "80/80 [==============================] - 241s 3s/step - loss: 0.5692 - accuracy: 0.7652 - val_loss: 0.3144 - val_accuracy: 0.8687\n"
          ],
          "name": "stdout"
        }
      ]
    },
    {
      "cell_type": "code",
      "metadata": {
        "id": "9bP1MWt03gsG",
        "trusted": true,
        "colab": {
          "base_uri": "https://localhost:8080/",
          "height": 562
        },
        "outputId": "2477c919-a066-4222-8350-f6e6d897070a"
      },
      "source": [
        "# PLOT LOSS AND ACCURACY\n",
        "%matplotlib inline\n",
        "\n",
        "acc=history.history['accuracy']\n",
        "val_acc=history.history['val_accuracy']\n",
        "loss=history.history['loss']\n",
        "val_loss=history.history['val_loss']\n",
        "\n",
        "epochs=range(len(acc)) # Get number of epochs\n",
        "\n",
        "plt.plot(epochs, acc, 'r', \"Training Accuracy\")\n",
        "plt.plot(epochs, val_acc, 'b', \"Validation Accuracy\")\n",
        "plt.title('Training and validation accuracy')\n",
        "plt.figure()\n",
        "\n",
        "\n",
        "plt.plot(epochs, loss, 'r', \"Training Loss\")\n",
        "plt.plot(epochs, val_loss, 'b', \"Validation Loss\")\n",
        "\n",
        "\n",
        "plt.title('Training and validation loss')\n",
        "\n",
        "# Desired output. Charts with training and validation metrics. No crash :)"
      ],
      "execution_count": null,
      "outputs": [
        {
          "output_type": "execute_result",
          "data": {
            "text/plain": [
              "Text(0.5, 1.0, 'Training and validation loss')"
            ]
          },
          "metadata": {
            "tags": []
          },
          "execution_count": 9
        },
        {
          "output_type": "display_data",
          "data": {
            "image/png": "[encoded data removed]",
            "text/plain": [
              "<Figure size 432x288 with 1 Axes>"
            ]
          },
          "metadata": {
            "tags": [],
            "needs_background": "light"
          }
        },
        {
          "output_type": "display_data",
          "data": {
            "image/png": "[encoded data removed]",
            "text/plain": [
              "<Figure size 432x288 with 1 Axes>"
            ]
          },
          "metadata": {
            "tags": [],
            "needs_background": "light"
          }
        }
      ]
    },
    {
      "cell_type": "code",
      "metadata": {
        "id": "EQRrJKnKNUko",
        "trusted": true,
        "colab": {
          "base_uri": "https://localhost:8080/"
        },
        "outputId": "ff80c0fd-f0bd-453d-f9b9-1c3083fe8730"
      },
      "source": [
        "print(transfer_model.evaluate(test_ds))"
      ],
      "execution_count": null,
      "outputs": [
        {
          "output_type": "stream",
          "text": [
            "20/20 [==============================] - 25s 1s/step - loss: 0.3144 - accuracy: 0.8687\n",
            "[0.31443217396736145, 0.8687499761581421]\n"
          ],
          "name": "stdout"
        }
      ]
    },
    {
      "cell_type": "code",
      "metadata": {
        "id": "N1wni3scP0lK",
        "trusted": true,
        "colab": {
          "base_uri": "https://localhost:8080/"
        },
        "outputId": "0fe03cce-6d7d-42f3-f9ff-3facfb2c9f92"
      },
      "source": [
        "labels_dict = test_ds.class_indices\r\n",
        "print(labels_dict)"
      ],
      "execution_count": null,
      "outputs": [
        {
          "output_type": "stream",
          "text": [
            "{'dyed-lifted-polyps': 0, 'dyed-resection-margins': 1, 'esophagitis': 2, 'normal-cecum': 3, 'normal-pylorus': 4, 'normal-z-line': 5, 'polyps': 6, 'ulcerative-colitis': 7}\n"
          ],
          "name": "stdout"
        }
      ]
    },
    {
      "cell_type": "markdown",
      "metadata": {
        "id": "4K7WRgK2pqnI"
      },
      "source": [
        "# Detailed Evaluation of Inception v3 model"
      ]
    },
    {
      "cell_type": "code",
      "metadata": {
        "id": "xlOn1EaxOG4D",
        "trusted": true,
        "colab": {
          "base_uri": "https://localhost:8080/"
        },
        "outputId": "c16bdeb1-65e9-404c-d90f-1bdbcaa5425f"
      },
      "source": [
        "#Evaluating a single image! \n",
        "\n",
        "#Replace this path with the path to any image u wish. \n",
        "\n",
        "img = image.load_img(Path('/tmp/kvasir-dataset-v2/polyps/006338df-e61e-4725-bb6c-dd0620f11cdc.jpg'), target_size=(288, 360))\n",
        "x = image.img_to_array(img)\n",
        "x = np.expand_dims(x, axis=0)\n",
        "\n",
        "images = np.vstack([x])\n",
        "#classes = transfer_model.predict(images)\n",
        "#np.argmax(classes,axis=1)\n",
        "\n",
        "tryy = test_generator.flow(images)\n",
        "predicted = transfer_model.predict(tryy)\n",
        "index = np.argmax(predicted,axis=1)[0]\n",
        "\n",
        "for key,item in labels_dict.items():\n",
        "  if item==index:\n",
        "    print(\"Image belongs to the class: \" + key)\n"
      ],
      "execution_count": null,
      "outputs": [
        {
          "output_type": "stream",
          "text": [
            "Image belongs to the class: polyps\n"
          ],
          "name": "stdout"
        }
      ]
    },
    {
      "cell_type": "code",
      "metadata": {
        "trusted": true,
        "colab": {
          "base_uri": "https://localhost:8080/"
        },
        "id": "Lx18hf0ZdhnF",
        "outputId": "95c9ccda-e8cc-4778-a456-716d9ce2917e"
      },
      "source": [
        "#Manually written code to understand how the model uses the Generator to make predictions\n",
        "#Will take the predictions and actual classes from here to manually calculate confusion matrix\n",
        "\n",
        "#there are 1600 images in test_ds, batch size is 80. Will use 20 batches\n",
        "\n",
        "pred_classes = []\n",
        "actual_classes = []\n",
        "\n",
        "batch = 0 \n",
        "\n",
        "for i,t in test_ds:\n",
        "    \n",
        "    if batch >=20: break\n",
        "    \n",
        "    batch+=1\n",
        "    \n",
        "    print(\"Batch \" + str(batch))\n",
        "    \n",
        "    preds = transfer_model.predict(i)\n",
        "    preds = np.argmax(preds,axis=1)\n",
        "    actual = t\n",
        "    \n",
        "    len_preds = len(preds)\n",
        "    \n",
        "    correct = 0\n",
        "    \n",
        "    for k in range(len_preds):\n",
        "        \n",
        "        pred_classes.append(preds[k])\n",
        "        actual_classes.append(actual[k])\n",
        "        \n",
        "        if preds[k]==actual[k]:\n",
        "            correct+=1\n",
        "            \n",
        "    print(\"No. correct \" + str(correct) + \" out of \" + str(len_preds))\n",
        "    \n",
        "    \n",
        "#print(pred_classes)\n",
        "#print(actual_classes)\n",
        "\n",
        "#print(len(pred_classes))\n",
        "#print(len(actual_classes))\n",
        "\n",
        "a=0\n",
        "\n",
        "for k in range(1600):\n",
        "    if pred_classes[k]==actual_classes[k]:\n",
        "        a+=1\n",
        "        \n",
        "print(str(a) + \" out of \" + str(len(pred_classes)))\n",
        "    "
      ],
      "execution_count": null,
      "outputs": [
        {
          "output_type": "stream",
          "text": [
            "Batch 1\n",
            "No. correct 65 out of 80\n",
            "Batch 2\n",
            "No. correct 53 out of 80\n",
            "Batch 3\n",
            "No. correct 65 out of 80\n",
            "Batch 4\n",
            "No. correct 74 out of 80\n",
            "Batch 5\n",
            "No. correct 73 out of 80\n",
            "Batch 6\n",
            "No. correct 54 out of 80\n",
            "Batch 7\n",
            "No. correct 60 out of 80\n",
            "Batch 8\n",
            "No. correct 61 out of 80\n",
            "Batch 9\n",
            "No. correct 76 out of 80\n",
            "Batch 10\n",
            "No. correct 78 out of 80\n",
            "Batch 11\n",
            "No. correct 79 out of 80\n",
            "Batch 12\n",
            "No. correct 78 out of 80\n",
            "Batch 13\n",
            "No. correct 75 out of 80\n",
            "Batch 14\n",
            "No. correct 71 out of 80\n",
            "Batch 15\n",
            "No. correct 70 out of 80\n",
            "Batch 16\n",
            "No. correct 70 out of 80\n",
            "Batch 17\n",
            "No. correct 69 out of 80\n",
            "Batch 18\n",
            "No. correct 68 out of 80\n",
            "Batch 19\n",
            "No. correct 76 out of 80\n",
            "Batch 20\n",
            "No. correct 75 out of 80\n",
            "1390 out of 1600\n"
          ],
          "name": "stdout"
        }
      ]
    },
    {
      "cell_type": "code",
      "metadata": {
        "trusted": true,
        "colab": {
          "base_uri": "https://localhost:8080/"
        },
        "id": "KljPhEf3dhnG",
        "outputId": "7718022e-c536-47d2-a131-3d4827eebc41"
      },
      "source": [
        "print('Confusion Matrix')\n",
        "print(confusion_matrix(actual_classes, pred_classes))"
      ],
      "execution_count": null,
      "outputs": [
        {
          "output_type": "stream",
          "text": [
            "Confusion Matrix\n",
            "[[145  52   0   0   0   0   3   0]\n",
            " [ 15 185   0   0   0   0   0   0]\n",
            " [  0   0 137   0   4  59   0   0]\n",
            " [  1   1   0 192   0   0   2   4]\n",
            " [  0   0   2   0 195   2   0   1]\n",
            " [  0   0  19   0   3 178   0   0]\n",
            " [  1   1   0  17   0   0 169  12]\n",
            " [  1   1   2   7   0   0   0 189]]\n"
          ],
          "name": "stdout"
        }
      ]
    },
    {
      "cell_type": "code",
      "metadata": {
        "colab": {
          "base_uri": "https://localhost:8080/",
          "height": 717
        },
        "id": "V5u-rGlng1cg",
        "outputId": "da08cbcb-79e4-4f87-90d3-8190203c2d89"
      },
      "source": [
        "import pandas as pd\r\n",
        "import seaborn as sn\r\n",
        "target_names =['dyed-resection-margins', 'dyed-lifted-polyps', 'ulcerative-colitis', 'normal-cecum', 'normal-z-line', 'esophagitis', 'polyps', 'normal-pylorus']\r\n",
        "array=confusion_matrix(actual_classes, pred_classes)\r\n",
        "df_cm = pd.DataFrame(array, index = [i for i in target_names],\r\n",
        "                  columns = [i for i in target_names])\r\n",
        "plt.figure(figsize = (12,10))\r\n",
        "sn.heatmap(df_cm, annot=True,fmt=\"d\")"
      ],
      "execution_count": null,
      "outputs": [
        {
          "output_type": "execute_result",
          "data": {
            "text/plain": [
              "<matplotlib.axes._subplots.AxesSubplot at 0x7fb3f3cdfdd0>"
            ]
          },
          "metadata": {
            "tags": []
          },
          "execution_count": 19
        },
        {
          "output_type": "display_data",
          "data": {
            "image/png": "[encoded data removed]",
            "text/plain": [
              "<Figure size 864x720 with 2 Axes>"
            ]
          },
          "metadata": {
            "tags": [],
            "needs_background": "light"
          }
        }
      ]
    },
    {
      "cell_type": "code",
      "metadata": {
        "trusted": true,
        "colab": {
          "base_uri": "https://localhost:8080/"
        },
        "id": "QHviH3lpdhnG",
        "outputId": "2f4e67b6-88b2-4a42-fcef-e0df10ce0ae5"
      },
      "source": [
        "print('Classification Report')\n",
        "target_names =['dyed-resection-margins', 'dyed-lifted-polyps', 'ulcerative-colitis', 'normal-cecum', 'normal-z-line', 'esophagitis', 'polyps', 'normal-pylorus']\n",
        "print(classification_report(actual_classes, pred_classes, target_names=target_names))"
      ],
      "execution_count": null,
      "outputs": [
        {
          "output_type": "stream",
          "text": [
            "Classification Report\n",
            "                        precision    recall  f1-score   support\n",
            "\n",
            "dyed-resection-margins       0.89      0.72      0.80       200\n",
            "    dyed-lifted-polyps       0.77      0.93      0.84       200\n",
            "    ulcerative-colitis       0.86      0.69      0.76       200\n",
            "          normal-cecum       0.89      0.96      0.92       200\n",
            "         normal-z-line       0.97      0.97      0.97       200\n",
            "           esophagitis       0.74      0.89      0.81       200\n",
            "                polyps       0.97      0.84      0.90       200\n",
            "        normal-pylorus       0.92      0.94      0.93       200\n",
            "\n",
            "              accuracy                           0.87      1600\n",
            "             macro avg       0.88      0.87      0.87      1600\n",
            "          weighted avg       0.88      0.87      0.87      1600\n",
            "\n"
          ],
          "name": "stdout"
        }
      ]
    },
    {
      "cell_type": "markdown",
      "metadata": {
        "id": "hdobu19EjK0H"
      },
      "source": [
        "#Testing a basic model without transfer learning\r\n"
      ]
    },
    {
      "cell_type": "code",
      "metadata": {
        "id": "tl34zBtI3F0s"
      },
      "source": [
        "model = tf.keras.Sequential([\r\n",
        "  tf.keras.layers.Conv2D(32,(10,10),activation='relu',input_shape=(288,360,3)),\r\n",
        "  tf.keras.layers.MaxPooling2D(3,3),\r\n",
        "  tf.keras.layers.Conv2D(32,(10,10),activation='relu'),\r\n",
        "  tf.keras.layers.MaxPooling2D(3,3),\r\n",
        "  tf.keras.layers.Flatten(),\r\n",
        "  tf.keras.layers.Dropout(0.2),\r\n",
        "  tf.keras.layers.Dense(128, activation='relu'),\r\n",
        "  tf.keras.layers.Dense(8,activation='softmax')\r\n",
        "])"
      ],
      "execution_count": null,
      "outputs": []
    },
    {
      "cell_type": "code",
      "metadata": {
        "colab": {
          "base_uri": "https://localhost:8080/"
        },
        "id": "xlYu2Dey3WZ1",
        "outputId": "3df17085-a724-4dc8-cd3f-deb38cdcbfac"
      },
      "source": [
        "model.summary()"
      ],
      "execution_count": null,
      "outputs": [
        {
          "output_type": "stream",
          "text": [
            "Model: \"sequential\"\n",
            "_________________________________________________________________\n",
            "Layer (type)                 Output Shape              Param #   \n",
            "=================================================================\n",
            "conv2d_94 (Conv2D)           (None, 279, 351, 32)      9632      \n",
            "_________________________________________________________________\n",
            "max_pooling2d_4 (MaxPooling2 (None, 93, 117, 32)       0         \n",
            "_________________________________________________________________\n",
            "conv2d_95 (Conv2D)           (None, 84, 108, 32)       102432    \n",
            "_________________________________________________________________\n",
            "max_pooling2d_5 (MaxPooling2 (None, 28, 36, 32)        0         \n",
            "_________________________________________________________________\n",
            "flatten_1 (Flatten)          (None, 32256)             0         \n",
            "_________________________________________________________________\n",
            "dropout_1 (Dropout)          (None, 32256)             0         \n",
            "_________________________________________________________________\n",
            "dense_2 (Dense)              (None, 128)               4128896   \n",
            "_________________________________________________________________\n",
            "dense_3 (Dense)              (None, 8)                 1032      \n",
            "=================================================================\n",
            "Total params: 4,241,992\n",
            "Trainable params: 4,241,992\n",
            "Non-trainable params: 0\n",
            "_________________________________________________________________\n"
          ],
          "name": "stdout"
        }
      ]
    },
    {
      "cell_type": "code",
      "metadata": {
        "colab": {
          "base_uri": "https://localhost:8080/"
        },
        "id": "7p0nrYqvjfjW",
        "outputId": "b447a4c9-e5e8-47d2-96a1-7f2a548f65d1"
      },
      "source": [
        "model.compile(optimizer='adam',\r\n",
        "              loss='sparse_categorical_crossentropy', \r\n",
        "              metrics='accuracy')\r\n",
        "\r\n",
        "history = model.fit(\r\n",
        "    train_ds,\r\n",
        "    epochs=10,\r\n",
        "    #batch_size=20,\r\n",
        "    #verbose=1,\r\n",
        "    validation_data=test_ds\r\n",
        ")"
      ],
      "execution_count": null,
      "outputs": [
        {
          "output_type": "stream",
          "text": [
            "Epoch 1/10\n",
            "80/80 [==============================] - 239s 3s/step - loss: 1.9326 - accuracy: 0.2292 - val_loss: 1.0825 - val_accuracy: 0.5175\n",
            "Epoch 2/10\n",
            "80/80 [==============================] - 240s 3s/step - loss: 1.1394 - accuracy: 0.4871 - val_loss: 0.8956 - val_accuracy: 0.5831\n",
            "Epoch 3/10\n",
            "80/80 [==============================] - 236s 3s/step - loss: 1.0087 - accuracy: 0.5435 - val_loss: 1.0485 - val_accuracy: 0.5125\n",
            "Epoch 4/10\n",
            "80/80 [==============================] - 238s 3s/step - loss: 1.0424 - accuracy: 0.5248 - val_loss: 0.8486 - val_accuracy: 0.6300\n",
            "Epoch 5/10\n",
            "80/80 [==============================] - 240s 3s/step - loss: 0.8873 - accuracy: 0.5901 - val_loss: 0.8120 - val_accuracy: 0.6094\n",
            "Epoch 6/10\n",
            "80/80 [==============================] - 237s 3s/step - loss: 0.8689 - accuracy: 0.6030 - val_loss: 0.7270 - val_accuracy: 0.6481\n",
            "Epoch 7/10\n",
            "80/80 [==============================] - 235s 3s/step - loss: 0.9177 - accuracy: 0.5752 - val_loss: 0.7903 - val_accuracy: 0.6388\n",
            "Epoch 8/10\n",
            "80/80 [==============================] - 235s 3s/step - loss: 0.8186 - accuracy: 0.6245 - val_loss: 0.7479 - val_accuracy: 0.6600\n",
            "Epoch 9/10\n",
            "80/80 [==============================] - 236s 3s/step - loss: 0.8291 - accuracy: 0.6108 - val_loss: 0.7803 - val_accuracy: 0.6300\n",
            "Epoch 10/10\n",
            "80/80 [==============================] - 236s 3s/step - loss: 0.7515 - accuracy: 0.6453 - val_loss: 0.7177 - val_accuracy: 0.6587\n"
          ],
          "name": "stdout"
        }
      ]
    },
    {
      "cell_type": "code",
      "metadata": {
        "colab": {
          "base_uri": "https://localhost:8080/",
          "height": 562
        },
        "id": "lxdomZleucR2",
        "outputId": "287cffc6-af23-4d0c-bf9c-4f9adfc52c7c"
      },
      "source": [
        "# PLOT LOSS AND ACCURACY\r\n",
        "%matplotlib inline\r\n",
        "\r\n",
        "acc=history.history['accuracy']\r\n",
        "val_acc=history.history['val_accuracy']\r\n",
        "loss=history.history['loss']\r\n",
        "val_loss=history.history['val_loss']\r\n",
        "\r\n",
        "epochs=range(len(acc)) # Get number of epochs\r\n",
        "\r\n",
        "plt.plot(epochs, acc, 'r', \"Training Accuracy\")\r\n",
        "plt.plot(epochs, val_acc, 'b', \"Validation Accuracy\")\r\n",
        "plt.title('Training and validation accuracy')\r\n",
        "plt.figure()\r\n",
        "\r\n",
        "\r\n",
        "plt.plot(epochs, loss, 'r', \"Training Loss\")\r\n",
        "plt.plot(epochs, val_loss, 'b', \"Validation Loss\")\r\n",
        "\r\n",
        "\r\n",
        "plt.title('Training and validation loss')\r\n",
        "\r\n",
        "# Desired output. Charts with training and validation metrics. No crash :)"
      ],
      "execution_count": null,
      "outputs": [
        {
          "output_type": "execute_result",
          "data": {
            "text/plain": [
              "Text(0.5, 1.0, 'Training and validation loss')"
            ]
          },
          "metadata": {
            "tags": []
          },
          "execution_count": 29
        },
        {
          "output_type": "display_data",
          "data": {
            "image/png": "[encoded data removed]",
            "text/plain": [
              "<Figure size 432x288 with 1 Axes>"
            ]
          },
          "metadata": {
            "tags": [],
            "needs_background": "light"
          }
        },
        {
          "output_type": "display_data",
          "data": {
            "image/png": "[encoded data removed]",
            "text/plain": [
              "<Figure size 432x288 with 1 Axes>"
            ]
          },
          "metadata": {
            "tags": [],
            "needs_background": "light"
          }
        }
      ]
    },
    {
      "cell_type": "code",
      "metadata": {
        "colab": {
          "base_uri": "https://localhost:8080/"
        },
        "id": "G4g4SShkjvgU",
        "outputId": "01807339-d131-4bd8-9a1e-193e5ebedbda"
      },
      "source": [
        "print(model.evaluate(test_ds))"
      ],
      "execution_count": null,
      "outputs": [
        {
          "output_type": "stream",
          "text": [
            "20/20 [==============================] - 24s 1s/step - loss: 0.7177 - accuracy: 0.6587\n",
            "[0.7176518440246582, 0.6587499976158142]\n"
          ],
          "name": "stdout"
        }
      ]
    },
    {
      "cell_type": "code",
      "metadata": {
        "colab": {
          "base_uri": "https://localhost:8080/"
        },
        "id": "UQixBU9vkGlk",
        "outputId": "372086a7-d6cc-4b32-d53f-851e02c0601e"
      },
      "source": [
        "\r\n",
        "  #Manually written code to understand how the model uses the Generator to make predictions\r\n",
        "#Will take the predictions and actual classes from here to manually calculate confusion matrix\r\n",
        "\r\n",
        "#there are 1600 images in test_ds, batch size is 80. Will use 20 batches\r\n",
        "\r\n",
        "pred_classes = []\r\n",
        "actual_classes = []\r\n",
        "\r\n",
        "batch = 0 \r\n",
        "\r\n",
        "for i,t in test_ds:\r\n",
        "    \r\n",
        "    if batch >=20: break\r\n",
        "    \r\n",
        "    batch+=1\r\n",
        "    \r\n",
        "    print(\"Batch \" + str(batch))\r\n",
        "    \r\n",
        "    preds = model.predict(i)\r\n",
        "    preds = np.argmax(preds,axis=1)\r\n",
        "    actual = t\r\n",
        "    \r\n",
        "    len_preds = len(preds)\r\n",
        "    \r\n",
        "    correct = 0\r\n",
        "    \r\n",
        "    for k in range(len_preds):\r\n",
        "        \r\n",
        "        pred_classes.append(preds[k])\r\n",
        "        actual_classes.append(actual[k])\r\n",
        "        \r\n",
        "        if preds[k]==actual[k]:\r\n",
        "            correct+=1\r\n",
        "            \r\n",
        "    print(\"No. correct \" + str(correct) + \" out of \" + str(len_preds))\r\n",
        "    \r\n",
        "    \r\n",
        "#print(pred_classes)\r\n",
        "#print(actual_classes)\r\n",
        "\r\n",
        "#print(len(pred_classes))\r\n",
        "#print(len(actual_classes))\r\n",
        "\r\n",
        "a=0\r\n",
        "\r\n",
        "for k in range(1600):\r\n",
        "    if pred_classes[k]==actual_classes[k]:\r\n",
        "        a+=1\r\n",
        "        \r\n",
        "print(str(a) + \" out of \" + str(len(pred_classes)))"
      ],
      "execution_count": null,
      "outputs": [
        {
          "output_type": "stream",
          "text": [
            "Batch 1\n",
            "No. correct 57 out of 80\n",
            "Batch 2\n",
            "No. correct 51 out of 80\n",
            "Batch 3\n",
            "No. correct 43 out of 80\n",
            "Batch 4\n",
            "No. correct 37 out of 80\n",
            "Batch 5\n",
            "No. correct 71 out of 80\n",
            "Batch 6\n",
            "No. correct 70 out of 80\n",
            "Batch 7\n",
            "No. correct 73 out of 80\n",
            "Batch 8\n",
            "No. correct 70 out of 80\n",
            "Batch 9\n",
            "No. correct 75 out of 80\n",
            "Batch 10\n",
            "No. correct 73 out of 80\n",
            "Batch 11\n",
            "No. correct 78 out of 80\n",
            "Batch 12\n",
            "No. correct 49 out of 80\n",
            "Batch 13\n",
            "No. correct 21 out of 80\n",
            "Batch 14\n",
            "No. correct 17 out of 80\n",
            "Batch 15\n",
            "No. correct 39 out of 80\n",
            "Batch 16\n",
            "No. correct 38 out of 80\n",
            "Batch 17\n",
            "No. correct 46 out of 80\n",
            "Batch 18\n",
            "No. correct 44 out of 80\n",
            "Batch 19\n",
            "No. correct 47 out of 80\n",
            "Batch 20\n",
            "No. correct 55 out of 80\n",
            "1054 out of 1600\n"
          ],
          "name": "stdout"
        }
      ]
    },
    {
      "cell_type": "code",
      "metadata": {
        "colab": {
          "base_uri": "https://localhost:8080/",
          "height": 717
        },
        "id": "sE2PcbWGkrXR",
        "outputId": "14a2686e-a803-4507-c9a8-989c2314d0aa"
      },
      "source": [
        "import pandas as pd\r\n",
        "import seaborn as sn\r\n",
        "target_names =['dyed-resection-margins', 'dyed-lifted-polyps', 'ulcerative-colitis', 'normal-cecum', 'normal-z-line', 'esophagitis', 'polyps', 'normal-pylorus']\r\n",
        "array=confusion_matrix(actual_classes, pred_classes)\r\n",
        "df_cm = pd.DataFrame(array, index = [i for i in target_names],\r\n",
        "                  columns = [i for i in target_names])\r\n",
        "plt.figure(figsize = (12,10))\r\n",
        "sn.heatmap(df_cm, annot=True,fmt=\"d\")"
      ],
      "execution_count": null,
      "outputs": [
        {
          "output_type": "execute_result",
          "data": {
            "text/plain": [
              "<matplotlib.axes._subplots.AxesSubplot at 0x7fb3f311eed0>"
            ]
          },
          "metadata": {
            "tags": []
          },
          "execution_count": 27
        },
        {
          "output_type": "display_data",
          "data": {
            "image/png": "[encoded data removed]",
            "text/plain": [
              "<Figure size 864x720 with 2 Axes>"
            ]
          },
          "metadata": {
            "tags": [],
            "needs_background": "light"
          }
        }
      ]
    },
    {
      "cell_type": "code",
      "metadata": {
        "colab": {
          "base_uri": "https://localhost:8080/"
        },
        "id": "gTWbSOy_tI2n",
        "outputId": "45fdd491-7002-4d5c-e016-0d8b7f3dec19"
      },
      "source": [
        "print('Classification Report')\r\n",
        "target_names =['dyed-resection-margins', 'dyed-lifted-polyps', 'ulcerative-colitis', 'normal-cecum', 'normal-z-line', 'esophagitis', 'polyps', 'normal-pylorus']\r\n",
        "print(classification_report(actual_classes, pred_classes, target_names=target_names))"
      ],
      "execution_count": null,
      "outputs": [
        {
          "output_type": "stream",
          "text": [
            "Classification Report\n",
            "                        precision    recall  f1-score   support\n",
            "\n",
            "dyed-resection-margins       0.56      0.71      0.63       200\n",
            "    dyed-lifted-polyps       0.66      0.51      0.57       200\n",
            "    ulcerative-colitis       0.57      0.88      0.69       200\n",
            "          normal-cecum       0.66      0.92      0.77       200\n",
            "         normal-z-line       0.85      0.95      0.90       200\n",
            "           esophagitis       0.69      0.23      0.35       200\n",
            "                polyps       0.64      0.48      0.55       200\n",
            "        normal-pylorus       0.72      0.59      0.65       200\n",
            "\n",
            "              accuracy                           0.66      1600\n",
            "             macro avg       0.67      0.66      0.64      1600\n",
            "          weighted avg       0.67      0.66      0.64      1600\n",
            "\n"
          ],
          "name": "stdout"
        }
      ]
    },
    {
      "cell_type": "markdown",
      "metadata": {
        "id": "wrjz7kVd319b"
      },
      "source": [
        "#Testing resnet50\r\n",
        " "
      ]
    },
    {
      "cell_type": "code",
      "metadata": {
        "colab": {
          "base_uri": "https://localhost:8080/"
        },
        "id": "4D-W3WYOtXPY",
        "outputId": "302461a7-e29d-4829-d17c-f0f05c6b98fb"
      },
      "source": [
        "from tensorflow.keras.applications import ResNet50\r\n",
        "\r\n",
        "base_model_resnet = ResNet50(input_shape=(288,360,3), include_top=False, weights=\"imagenet\")"
      ],
      "execution_count": null,
      "outputs": [
        {
          "output_type": "stream",
          "text": [
            "Downloading data from https://storage.googleapis.com/tensorflow/keras-applications/resnet/resnet50_weights_tf_dim_ordering_tf_kernels_notop.h5\n",
            "94773248/94765736 [==============================] - 3s 0us/step\n"
          ],
          "name": "stdout"
        }
      ]
    },
    {
      "cell_type": "code",
      "metadata": {
        "id": "55OL-6Ni4G57"
      },
      "source": [
        "for layer in base_model_resnet.layers:\r\n",
        "    layer.trainable = False"
      ],
      "execution_count": null,
      "outputs": []
    },
    {
      "cell_type": "code",
      "metadata": {
        "id": "iusT1MZE4Sxd"
      },
      "source": [
        "from tensorflow.keras.applications import ResNet50\r\n",
        "from tensorflow.python.keras.models import Sequential\r\n",
        "from tensorflow.python.keras.layers import Dense, Flatten, GlobalAveragePooling2D\r\n",
        "\r\n",
        "base_model_resnet = Sequential()\r\n",
        "base_model_resnet.add(ResNet50(include_top=False, weights='imagenet', pooling='max'))\r\n",
        "# Add a final sigmoid layer for classification\r\n",
        "base_model_resnet.add(Dense  (8,activation='softmax'))  \r\n",
        "base_model_resnet.compile(optimizer = tf.keras.optimizers.SGD(lr=0.0001), loss = 'sparse_categorical_crossentropy', metrics = ['acc'])\r\n"
      ],
      "execution_count": null,
      "outputs": []
    },
    {
      "cell_type": "code",
      "metadata": {
        "colab": {
          "base_uri": "https://localhost:8080/"
        },
        "id": "5jobX76N4_G8",
        "outputId": "2d10b9ed-ad59-4ff4-f55e-1c44f8edbf32"
      },
      "source": [
        "resnet_history = base_model_resnet.fit(train_ds, validation_data = test_ds, epochs = 10)\r\n"
      ],
      "execution_count": null,
      "outputs": [
        {
          "output_type": "stream",
          "text": [
            "Epoch 1/10\n",
            "80/80 [==============================] - 294s 3s/step - loss: 8.9121 - acc: 0.2025 - val_loss: 6.2355 - val_acc: 0.1425\n",
            "Epoch 2/10\n",
            "80/80 [==============================] - 261s 3s/step - loss: 3.0819 - acc: 0.4795 - val_loss: 7.7278 - val_acc: 0.1506\n",
            "Epoch 3/10\n",
            "80/80 [==============================] - 261s 3s/step - loss: 2.3455 - acc: 0.5829 - val_loss: 7.6607 - val_acc: 0.1294\n",
            "Epoch 4/10\n",
            "80/80 [==============================] - 261s 3s/step - loss: 1.9278 - acc: 0.6482 - val_loss: 7.2029 - val_acc: 0.1213\n",
            "Epoch 5/10\n",
            "80/80 [==============================] - 260s 3s/step - loss: 1.7026 - acc: 0.6809 - val_loss: 7.4011 - val_acc: 0.1306\n",
            "Epoch 6/10\n",
            "80/80 [==============================] - 260s 3s/step - loss: 1.4456 - acc: 0.7129 - val_loss: 6.5253 - val_acc: 0.1681\n",
            "Epoch 7/10\n",
            "80/80 [==============================] - 260s 3s/step - loss: 1.3082 - acc: 0.7406 - val_loss: 6.7086 - val_acc: 0.1937\n",
            "Epoch 8/10\n",
            "80/80 [==============================] - 260s 3s/step - loss: 1.1786 - acc: 0.7634 - val_loss: 5.2124 - val_acc: 0.2331\n",
            "Epoch 9/10\n",
            "80/80 [==============================] - 260s 3s/step - loss: 1.1101 - acc: 0.7699 - val_loss: 4.6181 - val_acc: 0.3194\n",
            "Epoch 10/10\n",
            "80/80 [==============================] - 260s 3s/step - loss: 1.1498 - acc: 0.7617 - val_loss: 3.7696 - val_acc: 0.4125\n"
          ],
          "name": "stdout"
        }
      ]
    }
  ]
}